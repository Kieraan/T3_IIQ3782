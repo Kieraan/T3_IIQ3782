{
 "cells": [
  {
   "cell_type": "markdown",
   "metadata": {},
   "source": [
    "# Tutorial 1 - Termodinámica Avanzada"
   ]
  },
  {
   "cell_type": "markdown",
   "metadata": {},
   "source": [
    "# Componentes, mezclas y fundamnetos de equilibrio de fase\n",
    "\n",
    "En este tutorial se ejemplifica la creación básica de componentes puros, mezclas de fluidos y los modelos disponibles en Phasepy.\n",
    "\n",
    "En Phasepy la unidad para la temperatura es [K], para la presión es [bar] y para el volumen molar es [cm^3/mol].\n",
    "\n",
    "- [Compuesto puro](#pure-fluids)\n",
    "- [Mezclas](#fluid-mixtures)\n",
    "- [Modelos](#models)\n",
    "    - [Modelos discontinuos](#gamma-phi)\n",
    "        - [NRTL](#nrtl)\n",
    "        - [Wilson](#wilson)\n",
    "        - [UNIQUAC](#uniquac)\n",
    "        - [UNIFAC](#unifac)\n",
    "    - [Ecuaciones Cúbicas](#cubic-eos)\n",
    "        - [QMR mixing rule](#qmr-mixingrule)\n",
    "        - [MHV mixing rule](#mhv-mixingrule)\n",
    "        - [Wong-Sandler mixing rule](#ws-mixingrule)"
   ]
  },
  {
   "cell_type": "code",
   "execution_count": 1,
   "metadata": {},
   "outputs": [],
   "source": [
    "import numpy as np\n",
    "from phasepy import mixture, component, virialgamma, preos\n",
    "import matplotlib.pyplot as plt"
   ]
  },
  {
   "cell_type": "markdown",
   "metadata": {},
   "source": [
    "<a id='pure-fluids'></a>\n",
    "\n",
    "## Compuesto puro\n",
    "\n",
    "Las propiedades físicas se especifican cuando se crea un componente. Las propiedades típicas incluyen propiedades críticas (``Tc``, ``Pc``, ``Zc``, ``Vc``), factor acéntrico (``w``), coeficientes de Antoine (``Ant``) , especificación de grupo para el método de contribución de grupo UNIFAC modificado (``GC``) y volumen y superficie molecular (``ri`` y ``qi``) utilizados en UNIQUAC.\n",
    "\n",
    "La ecuación de Antoine se implementa en la clase \"componente\".\n",
    "\n",
    "$$ \\ln (P /bar) = A - \\frac{B}{T/K + C}$$\n",
    "\n",
    "Donde $P$ es la presión de saturación y $T$ es la temperatura absoluta. Los parámetros $A$, $B$ y $C$ se obtienen de la siguiente manera: `A, B, C = componente.Ant`.\n",
    "\n",
    "El volumen líquido de los fluidos se puede estimar mediante la ecuación de Rackett:\n",
    "\n",
    "$$ v = v_c Z_c^{(1 - T_r)^{2/7}} $$\n",
    "\n",
    "Donde, $v$ es el volumen del líquido, $v_c$ es el volumen crítico, $Z_c$ es la compresibilidad crítica del fluido y $T_r$ es la temperatura reducida. Debe proporcionar el parámetro crítico (`Tc`, `Vc` y`Zc`) para que este método funcione."
   ]
  },
  {
   "cell_type": "code",
   "execution_count": 4,
   "metadata": {},
   "outputs": [
    {
     "name": "stdout",
     "output_type": "stream",
     "text": [
      "Presión de saturación del agua a 373 K: 1.0072796747419537 bar\n",
      "Volumen molar líquido de agua a 310 K: 16.46025809309672 cm3/mol\n",
      "Presión de saturación del etanol a 373 K: 2.233335305328437 bar\n",
      "Volumen molar líquido de etanol a 310 K:: 56.32856995891473 cm3/mol\n"
     ]
    }
   ],
   "source": [
    "water = component(name='water', Tc=647.13, Pc=220.55, Zc=0.229, Vc=55.948, w=0.344861,\n",
    "                  Ant=[11.64785144, 3797.41566067, -46.77830444],\n",
    "                  GC={'H2O':1}, ri=0.92, qi=1.4)\n",
    "\n",
    "ethanol = component(name='ethanol', Tc=514.0, Pc=61.37, Zc=0.241, Vc=168.0, w=0.643558,\n",
    "                    Ant=[11.61809279, 3423.0259436, -56.48094263],\n",
    "                    GC={'CH3':1, 'CH2':1, 'OH(P)':1}, ri=2.1055, qi=1.972)\n",
    "\n",
    "print('Presión de saturación del agua a 373 K:', water.psat(T=373.0), 'bar')\n",
    "print('Volumen molar líquido de agua a 310 K:', water.vlrackett(T=310.0), 'cm3/mol')\n",
    "print('Presión de saturación del etanol a 373 K:', ethanol.psat(T=373.0), 'bar')\n",
    "print('Volumen molar líquido de etanol a 310 K::', ethanol.vlrackett(T=310.0), 'cm3/mol')"
   ]
  },
  {
   "cell_type": "markdown",
   "metadata": {},
   "source": [
    "## Peng Robinson"
   ]
  },
  {
   "cell_type": "code",
   "execution_count": 25,
   "metadata": {},
   "outputs": [
    {
     "name": "stdout",
     "output_type": "stream",
     "text": [
      "Presión de saturación, volumenes molares del líquido y del vapor: (array([0.38411849]), array([22.06023465]), array([75460.57177459]))\n",
      "Densidad líquida: 0.045330993622090435\n",
      "Densidad vapor: 3.471897704451697e-05\n",
      "Presión de saturación, volumenes molares del líquido y del vapor: (array([0.98800647]), array([61.40263868]), array([28793.96430687]))\n",
      "Densidad líquida: 0.016285971597906856\n",
      "Densidad vapor: 3.5161028012629526e-05\n"
     ]
    }
   ],
   "source": [
    "# Ejemplo 1. Peng Robinson EOS para compuesto puro (Sin translación de volumen)\n",
    "eos = preos(water)\n",
    "print('Presión de saturación, volumenes molares del líquido y del vapor:', eos.psat(T=350.0))\n",
    "print('Densidad líquida:', eos.density(T=350.0, P=1.0, state='L'))\n",
    "print('Densidad vapor:', eos.density(T=350.0, P=1.0, state='V'))\n",
    "\n",
    "# Ejemplo 2. Peng Robinson EOS para compuesto puro (Sin translación de volumen, parámetro c)\n",
    "ethanol = component(name='ethanol', Tc=514.0, Pc=61.37, Zc=0.241, Vc=168.0, w=0.643558,\n",
    "                    c=5.35490936, Ant=[11.61809279, 3423.0259436, -56.48094263],\n",
    "                    GC={'CH3':1, 'CH2':1, 'OH(P)':1}, ri=2.1055, qi=1.972)\n",
    "eos = preos(ethanol, volume_translation=True)\n",
    "print('Presión de saturación, volumenes molares del líquido y del vapor:', eos.psat(T=350.0))\n",
    "print('Densidad líquida:', eos.density(T=350.0, P=1.0, state='L'))\n",
    "print('Densidad vapor:', eos.density(T=350.0, P=1.0, state='V'))"
   ]
  },
  {
   "cell_type": "markdown",
   "metadata": {},
   "source": [
    "Para fluidos puros, el método ``eos.psat`` permite calcular la presión de saturación a una temperatura determinada. Devuelve la presión de equilibrio y los volúmenes molares de las fases líquida y vapor. De manera similar, el método ``eos.tsat`` permite calcular la temperatura de saturación a una presión determinada.\n",
    "\n",
    "Los equilibrios de fases se pueden verificar mediante coeficientes de fugacidad usando el método ``eos.logfug`` o usando potenciales químicos con el método ``eos.muad``. Los potenciales químicos requieren esa densidad y temperatura adimensionales."
   ]
  },
  {
   "cell_type": "code",
   "execution_count": 44,
   "metadata": {},
   "outputs": [
    {
     "name": "stdout",
     "output_type": "stream",
     "text": [
      "[0.00017083] [3.89947059e-05] [18.97807558] [0.] [inf]\n",
      "Coeficientes de fugacidad: True\n",
      "Potencial químico: True\n"
     ]
    }
   ],
   "source": [
    "# Redefinición del componente\n",
    "water = component(name='water', Tc=647.13, Pc=220.55, Zc=0.229, Vc=55.948, w=0.344861,\n",
    "                  Ant=[11.64785144, 3797.41566067, -46.77830444],\n",
    "                  GC={'H2O':1}, ri=0.92, qi=1.4)\n",
    "\n",
    "# Inicialización de Peng-Robinson\n",
    "eosp = preos(water)\n",
    "\n",
    "# Condiciones del sistema\n",
    "T = 340.  # K\n",
    "P = 1.  # bar\n",
    "\n",
    "Psat, vlsat, vvsat = eosp.psat(T)\n",
    "\n",
    "# Comprobando los coeficientes de fugacidad\n",
    "logfugl, vlsat = eosp.logfug(T, Psat, 'L')\n",
    "logfugv, vvsat = eosp.logfug(T, Psat, 'V')\n",
    "\n",
    "\n",
    "# Comprobando potenciales químicos\n",
    "Tfactor, Pfactor, rofactor, tenfactor, zfactor = eosp.sgt_adim(T)\n",
    "\n",
    "print(Tfactor, Pfactor, rofactor, tenfactor, zfactor)\n",
    "Tad = T*Tfactor\n",
    "rholad = 1/vlsat * rofactor\n",
    "rhovad = 1/vvsat * rofactor\n",
    "\n",
    "mul = eosp.muad(rholad, Tad)\n",
    "muv = eosp.muad(rhovad, Tad)\n",
    "\n",
    "print('Coeficientes de fugacidad:', np.allclose(logfugl, logfugv ))\n",
    "print('Potencial químico:', np.allclose(mul, muv ))"
   ]
  },
  {
   "cell_type": "markdown",
   "metadata": {},
   "source": [
    "<a id='fluid-mixtures'></a>\n",
    "\n",
    "## Mezclas\n",
    "\n",
    "Las mezclas se crean a partir de componentes con la función de clase ``mezcla`` o agregando componentes (`+`).\n",
    "\n",
    "La función de mezcla permite configurar parámetros de interacción, como para el modelo NRTL (``mixture.NRTL``), el modelo de Wilson (``mixture.wilson``), el polinomio de Redlich-Kister (``mixture.rk``), el modelo UNIQUAC. (``mixture.uniquac``) y modelo UNIFAC (``mixture.unifac``)."
   ]
  },
  {
   "cell_type": "code",
   "execution_count": 27,
   "metadata": {},
   "outputs": [
    {
     "name": "stdout",
     "output_type": "stream",
     "text": [
      "Nombre de los componentes: ['ethanol', 'water']\n",
      "Número de components: 2\n",
      "Presión de saturación de los componentes: [2.23333531 1.00727967]\n",
      "Volumen molar líquido de los componenets: [56.32856996 16.46025809]\n"
     ]
    }
   ],
   "source": [
    "# Creando una mezcla con la función de clase mezcla\n",
    "mix = mixture(ethanol, water)\n",
    "# Crear una mezcla agregando dos componentes\n",
    "mix = ethanol + water\n",
    "\n",
    "# Algunas funciones básicas de una mezcla\n",
    "print('Nombre de los componentes:', mix.names)\n",
    "print('Número de components:', mix.nc)\n",
    "print('Presión de saturación de los componentes:', mix.psat(T=373.0))\n",
    "print('Volumen molar líquido de los componenets:', mix.vlrackett(T=310.0))"
   ]
  },
  {
   "cell_type": "markdown",
   "metadata": {},
   "source": [
    "Phasepy puede manejar mezclas multicomponentes. Puede agregar un componente a una mezcla existente usando el método `add_component` o agregándolo a la mezcla (`+`). Esto se muestra a continuación."
   ]
  },
  {
   "cell_type": "code",
   "execution_count": 28,
   "metadata": {},
   "outputs": [
    {
     "name": "stdout",
     "output_type": "stream",
     "text": [
      "Nombre de los componentes: ['ethanol', 'water', 'mtbe']\n",
      "Número de components: 3\n",
      "Presión de saturación de los componentes: [2.23333531 1.00727967 3.6059683 ]\n",
      "Volumen molar líquido de los componenets: [ 56.32856996  16.46025809 123.2280021 ]\n"
     ]
    }
   ],
   "source": [
    "mtbe = component(name='mtbe', Tc=497.1, Pc=34.3, Zc=0.273, Vc=329.0, w=0.266059,\n",
    "                 Ant=[9.16238246, 2541.97883529, -50.40534341],\n",
    "                 GC={'CH3':3, 'CH3O':1, 'C':1})\n",
    "\n",
    "# agregar un componente usando el método add_component\n",
    "mix = mixture(ethanol, water)\n",
    "mix.add_component(mtbe)\n",
    "\n",
    "# creando la mezcla ternaria agregando los componentes puros\n",
    "mix = ethanol + water + mtbe\n",
    "\n",
    "# Algunas funciones básicas de una mezcla\n",
    "print('Nombre de los componentes:', mix.names)\n",
    "print('Número de components:', mix.nc)\n",
    "print('Presión de saturación de los componentes:', mix.psat(T=373.0))\n",
    "print('Volumen molar líquido de los componenets:', mix.vlrackett(T=310.0))"
   ]
  },
  {
   "cell_type": "markdown",
   "metadata": {},
   "source": [
    "El objeto `eos` incluye los métodos para evaluar propiedades de la ecuación de estado, tales como densidades, presión, coeficientes de fugacidad, potencial químico y algunas propiedades derivadas térmicas (entropía residual, entalpía residual, capacidades caloríficas residuales y velocidad del sonido)."
   ]
  },
  {
   "cell_type": "code",
   "execution_count": 46,
   "metadata": {},
   "outputs": [],
   "source": [
    "water = component(name = 'water', Tc = 647.13, Pc = 220.55, Zc = 0.229, Vc = 55.948, w = 0.344861,\n",
    "                GC = {'H2O':1}, Mw = 18.04)\n",
    "\n",
    "\n",
    "ethanol = component(name = 'ethanol', Tc = 514.0, Pc = 61.37, Zc = 0.241, Vc = 168.0, w = 0.643558,\n",
    "                GC = {'CH3':1, 'CH2':1,'OH(P)':1}, Mw = 46.07)\n",
    "\n",
    "mix = mixture(water, ethanol)\n",
    "\n",
    "mix.unifac()\n",
    "eos = preos(mix, 'mhv_unifac')\n",
    "\n",
    "T = 340.  # K\n",
    "P = 1.  # bar\n",
    "x = np.array([0.3, 0.7])\n"
   ]
  },
  {
   "cell_type": "markdown",
   "metadata": {},
   "source": [
    "Los coeficientes de fugacidad efectiva se pueden calcular para una composición, temperatura, presión y estado de agregación determinados utilizando el método ``eos.logfugef``. Esta función devuelve el logaritmo natural de los coeficientes de fugacidad y la raíz del volumen calculado.\n",
    "\n",
    "La fugacidad de la mezcla se puede calcular con el método ``eos.logfugmix``. Funciona de manera similar al método anterior.\n",
    "\n",
    "El potencial químico se calcula con un vector de densidad adimensional ($\\rho_i = x_i \\rho b_0$) y una temperatura dados."
   ]
  },
  {
   "cell_type": "code",
   "execution_count": 53,
   "metadata": {},
   "outputs": [
    {
     "name": "stdout",
     "output_type": "stream",
     "text": [
      "Coeficientes de fugacidad :  True\n"
     ]
    },
    {
     "data": {
      "text/plain": [
       "array([-0.05741901,  0.01584424])"
      ]
     },
     "execution_count": 53,
     "metadata": {},
     "output_type": "execute_result"
    }
   ],
   "source": [
    "lnphi, v = eos.logfugef(x, T, P, 'L')\n",
    "lnphimix, v = eos.logfugmix(x, T, P, 'L')\n",
    "\n",
    "print('Coeficientes de fugacidad : ', np.allclose(lnphimix, np.dot(lnphi, x)))\n",
    "\n",
    "rhofactor = eos.b[0]\n",
    "rhoad = 1/v * rofactor\n",
    "rhovector = x*rhoad\n",
    "# Potencial químico\n",
    "eos.muad(rhovector, T)\n"
   ]
  },
  {
   "cell_type": "markdown",
   "metadata": {},
   "source": [
    "<a id='models'></a>\n",
    "\n",
    "## Modelos de equilibrio de fases\n",
    "\n",
    "Los modelos de equilibrio de fases se crean a partir de una mezcla y especificaciones del modelo. Se deben proporcionar a la mezcla parámetros específicos del modelo.\n",
    "\n",
    "Phasepy incluye dos enfoques de modelado. En el enfoque de modelado discontinuo ($\\gamma-\\varphi$), donde el vapor se puede modelar a partir de una expansión virial y el líquido se modela utilizando un modelo de coeficiente de actividad. En el enfoque de modelado continuo $\\varphi-\\varphi$, ambas fases de vapor y líquido se modelan con la misma ecuación de estado.\n",
    "\n",
    "\n",
    "<a id='gamma-phi'></a>\n",
    "\n",
    "### Modelado discontinuo ($\\gamma-\\varphi$):\n",
    "\n",
    "Modelos disponibles a través de la función `virialgamma`.\n",
    "\n",
    " - Fase de vapor: `Abbott`, `Tsonopoulos` o `ideal_gas`.\n",
    " - Fase líquida: `nrtl`, `wilson`, `rk`, `uniquac` o `unifac`.\n",
    "\n",
    "\n",
    "\n",
    "\n",
    "<a id='nrtl'></a>\n",
    "### Modelo de coeficiente de actividad NRTL\n",
    "\n",
    "El modelo NRTL calcula el exceso de energía de Gibbs de la siguiente manera:\n",
    "\n",
    "$$ g^e = \\sum_{i=1}^c x_i \\frac{\\sum_{j=1}^c \\tau_{ji}G_{ji}x_j}{\\sum_{l=1}^c G_ {li}x_l}$$\n",
    "\n",
    "Dónde,\n",
    "$$ \\tau_{ji} = \\frac{A_{ji}}{T}, \\quad G_{ji} = \\exp{(-\\alpha_{ji}\\tau_{ji})}, \\quad\n",
    "\\alpha_{ji} = \\alpha_{ij} $$\n",
    "\n",
    "Aquí $A_{ij}$ y $\\alpha_{ij}$ son la energía de interacción y el factor aleatorio entre el componente $i$ y $j$\n",
    "\n",
    "En Phasepy, las energías de interacción del NRTL se calculan como: $A_{ij} = A_{ij, 0} + A_{ij, 1} T$.\n",
    "\n",
    "Puede proporcionar el parámetro NRTL utilizando el método `mix.NRTL`."
   ]
  },
  {
   "cell_type": "code",
   "execution_count": 29,
   "metadata": {},
   "outputs": [],
   "source": [
    "# Ejemplo 3. Inicialización del modelo de coeficiente de actividad NRTL para líquido y del modelo virial de Abbott para vapor\n",
    "mix = ethanol + water\n",
    "\n",
    "alpha = np.array([[0.0, 0.5597628],\n",
    "                  [0.5597628, 0.0]])\n",
    "Aij0 = np.array([[0.0, -57.6880881],\n",
    "              [668.682368, 0.0]])\n",
    "Aij1 = np.array([[0.0, 0.46909821],\n",
    "               [-0.37982045, 0.0]])\n",
    "mix.NRTL(alpha, Aij0, Aij1)\n",
    "eos = virialgamma(mix, virialmodel='Abbott', actmodel='nrtl')"
   ]
  },
  {
   "cell_type": "markdown",
   "metadata": {},
   "source": [
    "<a id='wilson'></a>\n",
    "### Modelo de coeficiente de actividad de Wilson\n",
    "\n",
    "\n",
    "En el modelo de Wilson, el exceso de energía de Gibbs se calcula de la siguiente manera:\n",
    "\n",
    "$$ g^e = - \\sum_i x_i \\ln\\left[ \\sum_j x_j \\Lambda_{ij}\\right]$$\n",
    "\n",
    "Dónde,\n",
    "\n",
    "$$ \\Lambda_{ij} = \\frac{v_j}{v_i} \\exp{\\frac{-A_{ij}}{T}}$$\n",
    "\n",
    "Aquí, $v_i$ es el volumen del componente $i$ y $A_{ij}$ es la energía de interacción entre el componente $i$ y $j$. Las energías se pueden ajustar a los datos experimentales. Phasepy usa la ecuación de Rackett para calcular volúmenes en el modelo de Wilson; es necesario proporcionar las propiedades críticas del fluido para que este método funcione (`Tc`, `Pc`, `Zc`, `Vc`, `w`).\n",
    "\n",
    "Puedes suministrar las energías Wilson usando el método ``mix.wilson``."
   ]
  },
  {
   "cell_type": "code",
   "execution_count": 30,
   "metadata": {},
   "outputs": [],
   "source": [
    "# Ejemplo 5. Inicialización del modelo de coeficiente de actividad de Wilson para líquido y del modelo virial de Abbott para vapor\n",
    "mix = ethanol + water\n",
    "\n",
    "Aij = np.array([[0., 163.97284376],\n",
    "                [497.26813303, 0.]])\n",
    "mix.wilson(Aij)\n",
    "eos = virialgamma(mix, virialmodel='Abbott', actmodel='wilson')"
   ]
  },
  {
   "cell_type": "markdown",
   "metadata": {},
   "source": [
    "<a id='uniquac'></a>\n",
    "### Modelo de coeficiente de actividad UNIQUAC\n",
    "\n",
    "En el modelo UNIQUAC, los coeficientes de actividad se calculan como la suma de un término combinatorio y residual.\n",
    "\n",
    "$$\\ln \\gamma_i = \\underbrace{ \\ln \\frac{\\Phi_i}{x_i} + 1 \\frac{\\Phi_i}{x_i} - \\frac{10}{2} q_i \\left[ \\ln \\frac{ \\Phi_i}{\\vartheta_i} + 1 - \\frac{\\Phi_i}{\\vartheta_i} \\right] }_{\\ln \\gamma_i^{comb}} + \\underbrace{q_i \\left[1 - \\ln S_i - \\ sum_i \\frac{\\tau_{ij}\\vartheta_j}{S_j} \\right]}_{\\ln \\gamma_i^{res}} $$\n",
    "\n",
    "Dónde,\n",
    "\n",
    "$$ \\Phi_i = \\frac{r_i x_i}{\\sum_j r_j x_j} \\quad \\vartheta_i = \\frac{q_i x_i}{\\sum_j q_j x_j} \\quad \\tau_{ij} = \\exp \\left[-\\frac {A_{ij}}{T}\\right] \\quad S_i = \\sum_j \\vartheta_j \\tau_{ji} $$\n",
    "\n",
    "El modelo de coeficiente de actividad de UNIQUAC requiere el volumen molecular ($r_i$) y la superficie ($q_i$) como energía de interacción ($A_{ij}$). En Phasepy, la energía de interacción se calcula de la siguiente manera: $A_{ij} = A_{ij, 0} + A_{ij, 1} T$. Donde $A_{ij, 0}$ está en Kelvin y $A_{ij, 1}$ no tiene dimensiones.\n",
    "\n",
    "**Nota 1:** Es necesario proporcionar la superficie molecular y el volumen (``ri`` y ``qi``) a los componentes para que este método funcione.\n",
    "\n",
    "**Nota 2:** Las energías se pueden agregar a UNIQUAC usando el método ``mix.uniquac``.\n"
   ]
  },
  {
   "cell_type": "code",
   "execution_count": 31,
   "metadata": {},
   "outputs": [],
   "source": [
    "# Ejemplo 6. Inicialización de UNIQUAC para líquido, ley de gas ideal para vapor\n",
    "mix = ethanol + water\n",
    "\n",
    "# interactions energies in K\n",
    "A12, A21 = -7.33540823, 151.83100234 \n",
    "Aij0 = np.array([[0., A12], [A21, 0.]])\n",
    "mix.uniquac(Aij0)\n",
    "eos = virialgamma(mix, virialmodel='ideal_gas', actmodel='uniquac')"
   ]
  },
  {
   "cell_type": "markdown",
   "metadata": {},
   "source": [
    "<a id='unifac'></a>\n",
    "\n",
    "### Modelo de coeficiente de actividad de UNIFAC\n",
    "\n",
    "Phasepy incluye los modelos de actividad originales de contribución de grupo UNIFAC y UNIFAC-Dortmund. En estos modelos, los coeficientes de actividad se obtienen a partir de una contribución combinatoria y residual.\n",
    "\n",
    "$$\\ln \\gamma_i = \\ln \\gamma_i^{comb} + \\ln \\gamma_i^{res} $$\n",
    "\n",
    "\n",
    "Phasepy incluye los parámetros públicos publicados por el banco de datos de Dortmund. Para conocer las definiciones y parámetros del grupo, consulte [aquí](http://www.ddbst.com/published-parameters-unifac.html) para el UNIFAC original y [aquí](http://www.ddbst.com/PublishedParametersUNIFACDO.html) para Dortmund-UNIFAC.\n",
    "\n",
    "Debe proporcionar la información de contribución del grupo a través del parámetro `GC` al crear un componente para que este método funcione.\n",
    "\n",
    "Una vez que se haya configurado su mezcla, puede leer la base de datos usando el método `mix.original_unifac` o `mix.unifac` para UNIFAC original y Dortmund, respectivamente."
   ]
  },
  {
   "cell_type": "code",
   "execution_count": 32,
   "metadata": {},
   "outputs": [],
   "source": [
    "# Ejemplo 7a. Iniciatalización de UNIFAC original para líquido, ley de gas ideal para vapor\n",
    "\n",
    "# El etanol debe redefinirse con la definición de grupo correcta para la UNIFAC original.\n",
    "ethanol2 = component(name='ethanol', Tc=514.0, Pc=61.37, Zc=0.241, Vc=168.0, w=0.643558,\n",
    "                     c=5.35490936, Ant=[11.61809279, 3423.0259436, -56.48094263],\n",
    "                     GC={'CH3':1, 'CH2':1, 'OH':1}, ri=2.1055, qi=1.972)\n",
    "\n",
    "mix = ethanol2 + water\n",
    "# Leyendo la base de datos original de UNIFAC\n",
    "mix.original_unifac()\n",
    "eos = virialgamma(mix, virialmodel='ideal_gas', actmodel='original_unifac')"
   ]
  },
  {
   "cell_type": "code",
   "execution_count": 33,
   "metadata": {},
   "outputs": [],
   "source": [
    "# Ejemplo 7b. Inicialización de Dortmund UNIFAC modificada para líquido, ley de gas ideal para vapor\n",
    "\n",
    "mix = ethanol + water\n",
    "# reading Dortmund Modified UNIFACc database\n",
    "mix.unifac()\n",
    "eos = virialgamma(mix, virialmodel='ideal_gas', actmodel='unifac')"
   ]
  },
  {
   "cell_type": "markdown",
   "metadata": {},
   "source": [
    "<a id='cubic-eos'></a>\n",
    "### Ecuaciones de estado cúbicas\n",
    "\n",
    "Phasepy incluye las siguientes ecuaciones de estado cúbicas: `vdweos`, `rkeos`, `rkseos`, `preos`, `prsveos`. Cuando trabaje con mezclas, puede utilizar la regla de mezcla cuadrática clásica o elegir entre una de las reglas de mezcla avanzadas implementadas (MHV, MHV-1 o WS).\n",
    "\n",
    "<a id='qmr-mixingrule'></a>\n",
    "#### Regla de mezcla cuadrática (QMR)\n",
    "\n",
    "En la regla de mezcla cuadrática (`qmr`), el parámetro cohesivo y el covolumen se calculan de la siguiente manera:\n",
    "\n",
    "$$ b_{mix} = \\sum_{i} x_i b_i \\qquad a_{mix} = \\sum_i \\sum_j x_i x_j \\sqrt{a_i a_j} (1-k_{ij}) $$\n",
    "\n",
    "Puede proporcionar la matriz de corrección ``Kij`` usando el método ``mix.kij_cubic``."
   ]
  },
  {
   "cell_type": "code",
   "execution_count": 34,
   "metadata": {},
   "outputs": [],
   "source": [
    "# Ejemplo 8. Inicialización de Peng Robinson EOS para mezcla con regla de mezcla cuadrática.\n",
    "mix = ethanol + water\n",
    "\n",
    "Kij = np.array([[0, -0.11], [-0.11, 0]])\n",
    "mix.kij_cubic(Kij)\n",
    "eos = preos(mix, mixrule='qmr')"
   ]
  },
  {
   "cell_type": "markdown",
   "metadata": {},
   "source": [
    "<a id='mhv-mixingrule'></a>\n",
    "\n",
    "#### Regla de mezcla Huron-Vidal modificada (MHV)\n",
    "\n",
    "La regla de mezcla modificada de Huron-Vidal coincide con el exceso de energía de Gibbs de un modelo de coeficiente de actividad y el obtenido de la EoS cúbica en el límite de baja presión ($P \\rightarrow 0$). Con esta regla de mezcla el covolumen se obtiene como $ b_{mix} = \\sum_{i} x_i b_i$. Mientras que el parámetro cohesivo se obtiene de la solución de la siguiente ecuación no lineal:\n",
    "\n",
    "$$ g^{E, modelo} + \\sum_i x_i \\ln \\left[\\frac{b_{mix}}{b_i} \\right] = q(\\alpha) - \\sum_i x_i q(\\alpha_i)$$\n",
    "\n",
    "Donde, $\\alpha = a/(b RT)$ y la función $q(\\alpha)$ se calcula de la siguiente manera:\n",
    "\n",
    "$$ q(\\alpha) = -1 - \\ln(u_0 - 1) - \\frac{\\alpha}{c_1-c_2} \\ln \\left[\\frac{u_0 + c_1}{u_0 + c_2} \\right] $$\n",
    "\n",
    "Donde $u_0 = V/b$ se calcula a partir de la solución en volumen a presión cero a partir de la ecuación de estado cúbica.\n",
    "\n",
    "**Nota 1:** Este conjunto de ecuaciones tiene solución ($\\alpha$) solo a bajas presiones, no debes usar esta regla de mezcla a presiones superiores a ~ 5 bar.\n",
    "\n",
    "**Nota 2:** Puede combinar esta regla de combinación con cualquiera de los modelos de coeficiente de actividad implementados. Debe proporcionar el parámetro del modelo al objeto \"mezcla\"."
   ]
  },
  {
   "cell_type": "code",
   "execution_count": 35,
   "metadata": {},
   "outputs": [],
   "source": [
    "# Ejemplo 9. Inicialización de Peng Robinson EOS para mezcla. La regla de mezcla es Huron Vidal modificado con NRTL.\n",
    "mix = ethanol + water\n",
    "\n",
    "alpha = np.array([[0.0, 0.5597628],\n",
    "                  [0.5597628, 0.0]])\n",
    "Aij0 = np.array([[0.0, -57.6880881],\n",
    "              [668.682368, 0.0]])\n",
    "Aij1 = np.array([[0.0, 0.46909821],\n",
    "               [-0.37982045, 0.0]])\n",
    "mix.NRTL(alpha, Aij0, Aij1)\n",
    "eos = preos(mix, mixrule='mhv_nrtl')"
   ]
  },
  {
   "cell_type": "code",
   "execution_count": 36,
   "metadata": {},
   "outputs": [],
   "source": [
    "# Ejemplo 10. Inicialización de Peng Robinson EOS para mezcla. La regla de mezcla es Huron Vidal Modificado con UNIFAC Modificado.\n",
    "mix = ethanol + water\n",
    "\n",
    "mix.unifac()\n",
    "eos = preos(mix, mixrule='mhv_unifac')"
   ]
  },
  {
   "cell_type": "markdown",
   "metadata": {},
   "source": [
    "<a id='ws-mixingrule'></a>\n",
    "\n",
    "#### Regla de mezcla de Wong-Sandler (WS)\n",
    "\n",
    "Esta regla de mezcla avanzada utiliza la referencia de presión infinita y considera un cálculo teóricamente correcto del segundo virial:\n",
    "\n",
    "$$ B = \\sum_i \\sum_j x_i x_j \\left[ b - \\frac{a}{RT} \\right]_{ij} = b_{mix} - \\frac{a_{mix}}{RT} $$\n",
    "\n",
    "En esta regla de mezcla, el covolumen se calcula de la siguiente manera:\n",
    "\n",
    "$$ b_{mix}= \\frac{\\sum_i \\sum_j x_i x_j \\left[ b - \\frac{a}{RT} \\right]_{ij}}{1 - \\frac{g^{E, modelo} }{C^*} - \\sum_i x_i \\frac{a_i}{b_i RT}} $$\n",
    "\n",
    "Esto permite un parámetro ajustable ``kij`` para cada par.\n",
    "\n",
    "$$ \\left[ b - \\frac{a}{RT} \\right]_{ij} = \\frac{1}{2} \\left[ \\left( b_i - \\frac{a_i}{RT} \\right) + \\left( b_j - \\frac{a_j}{RT} \\right) \\right] \\left(1 -k_{ij} \\right)$$\n",
    "\n",
    "Finalmente, el parámetro de cohesión se calcula de la siguiente manera:\n",
    "\n",
    "$$ a_{mix} = b_{mix} RT \\left[ \\frac{g^{E, modelo}}{C^*} + \\sum_i x_i \\frac{a_i}{b_i RT} \\right]$$\n",
    "\n",
    "**Nota 1:** puede proporcionar la matriz de corrección ``Kij`` usando el método ``mix.kij_ws``.\n",
    "\n",
    "\n",
    "**Nota 2:** Puede combinar esta regla de combinación con cualquiera de los modelos de coeficiente de actividad implementados. Debe proporcionar el parámetro del modelo al objeto \"mezcla\"."
   ]
  },
  {
   "cell_type": "code",
   "execution_count": 27,
   "metadata": {},
   "outputs": [],
   "source": [
    "# Ejemplo 11. Inicialización de Peng Robinson EOS para mezcla. La regla de mezcla es WS con UNIQUAC.\n",
    "mix = ethanol + water\n",
    "# note: you need to provide the molecular surface and volume (ri and qi) to the components for this method to work.\n",
    "\n",
    "# interactions energies in K\n",
    "A12, A21 = -7.33540823, 151.83100234 \n",
    "Aij0 = np.array([[0., A12], [A21, 0.]])\n",
    "mix.uniquac(Aij0)\n",
    "eos = preos(mix, mixrule='ws_uniquac')"
   ]
  },
  {
   "cell_type": "markdown",
   "metadata": {},
   "source": []
  }
 ],
 "metadata": {
  "kernelspec": {
   "display_name": "Python 3 (ipykernel)",
   "language": "python",
   "name": "python3"
  },
  "language_info": {
   "codemirror_mode": {
    "name": "ipython",
    "version": 3
   },
   "file_extension": ".py",
   "mimetype": "text/x-python",
   "name": "python",
   "nbconvert_exporter": "python",
   "pygments_lexer": "ipython3",
   "version": "3.11.5"
  }
 },
 "nbformat": 4,
 "nbformat_minor": 4
}
