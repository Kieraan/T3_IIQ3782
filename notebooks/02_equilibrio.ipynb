{
 "cells": [
  {
   "cell_type": "markdown",
   "metadata": {},
   "source": [
    "# Tutorial 2 - Termodinámica Avanzada"
   ]
  },
  {
   "cell_type": "markdown",
   "metadata": {},
   "source": [
    "# Cálculo de flash de dos fases (VLE y LLE)\n",
    "\n",
    "El flash isotérmico-isobárico de dos fases se lleva a cabo mediante una combinación de sustitución sucesiva acelerada (ASS) para actualizar las composiciones de fases y el método de Halley para resolver el balance de masas de Rachford-Rice.\n",
    "\n",
    "$$ FO = \\sum_{i=1}^c \\left( x_i^\\beta - x_i^\\alpha \\right) = \\sum_{i=1}^c \\frac{z_i (K_i-1)}{1 +\\psi (K_i-1)} $$\n",
    "\n",
    "Donde, $K_i = x_i^\\beta/x_i^\\alpha =\\hat{\\phi}_i^\\alpha /\\hat{\\phi}_i^\\beta $ representa la constante de equilibrio y $\\psi$ la fracción de la fase $\\beta$. El método descrito puede ser lento a altas presiones, por esa razón, el número de ciclos de ASS se limita a ciclos ``nacc`` y si no se llega a una solución el algoritmo cambia a un procedimiento de segundo orden basado en la minimización de energía libre de Gibbs. :\n",
    "\n",
    "$$ min \\, {G(\\underline{F}^\\alpha, \\underline{F}^\\beta)} = \\sum_{i=1}^c (F_i^\\alpha \\ln \\hat{f}_i ^\\alpha + F_i^\\beta \\ln \\hat{f}_i^\\beta) $$\n",
    "\n",
    "Aquí, $F$ se refiere al número de moles y $\\hat{f}$ a la fugacidad efectiva, el superíndice se refiere al índice de fase y el subíndice al índice de especie. La optimización se realiza utilizando rutinas de minimización de SciPy.\n",
    "\n",
    "La rutina ``flash`` de Phasepy resuelve composiciones de fases para flash de dos fases a presión y temperatura constantes (PT-flash). La función ```flash``` requiere conjeturas iniciales para las composiciones de fases, los estados de las fases, es decir, ```LV``` para flash líquido-vapor o ```LL``` para flash líquido-líquido, la composición de fase global (``z``), la temperatura (``T``) y la presión (``P``) del sistema.\n",
    "\n",
    "En este tutorial se ejemplificará el cálculo instantáneo de vapor-líquido y líquido-líquido. Los ejemplos siguientes aplican la ecuación de estado de Peng-Robinson. La regla de mezcla aplicada es Hurón Vidal Modificado combinado con UNIFAC Modificado.\n",
    "\n",
    "Para empezar, se importan las funciones necesarias."
   ]
  },
  {
   "cell_type": "code",
   "execution_count": 1,
   "metadata": {},
   "outputs": [],
   "source": [
    "import numpy as np\n",
    "from phasepy import mixture, component, preos\n",
    "from phasepy.equilibrium import flash"
   ]
  },
  {
   "cell_type": "markdown",
   "metadata": {},
   "source": [
    "---\n",
    "### Flash para Equilibrio Líquido Vapor\n",
    "\n",
    "Este cálculo se ejemplificará para la mezcla de etanol y agua."
   ]
  },
  {
   "cell_type": "code",
   "execution_count": 2,
   "metadata": {},
   "outputs": [
    {
     "data": {
      "text/plain": [
       "      T: 350.0\n",
       "      P: 0.8\n",
       "   beta: 0.46657039792253846\n",
       "  error: 9.457067269309928e-09\n",
       "   iter: 7\n",
       "      X: array([0.23951597, 0.76048403])\n",
       "     v1: 32.508879490521245\n",
       " state1: 'L'\n",
       "      Y: array([0.58348128, 0.41651872])\n",
       "     v2: 35869.13850298782\n",
       " state2: 'V'"
      ]
     },
     "execution_count": 2,
     "metadata": {},
     "output_type": "execute_result"
    }
   ],
   "source": [
    "# Inicializando la ecuación de estado y UNIFAC. \n",
    "water = component(name='water', Tc=647.13, Pc=220.55, \n",
    "                  w=0.344861, GC={'H2O':1})\n",
    "\n",
    "ethanol = component(name='ethanol', Tc=514.0, Pc=61.37,\n",
    "                    w=0.643558, GC={'CH3':1, 'CH2':1, 'OH(P)':1})\n",
    "\n",
    "mix = mixture(ethanol, water)\n",
    "\n",
    "mix.unifac() \n",
    "eos = preos(mix, 'mhv_unifac')\n",
    "\n",
    "# Condiciones de operación y concentración de entrada  \n",
    "T = 350.0\n",
    "P = 0.8\n",
    "Z = np.array([0.4, 0.6])\n",
    "\n",
    "# Valores iniciales para ambas fases \n",
    "x0 = np.array([0.23512692, 0.76487308])\n",
    "y0 = np.array([0.5, 0.5])\n",
    "\n",
    "# Rutina de calculo\n",
    "flash(x0, y0, 'LV', Z, T, P, eos, full_output=True)"
   ]
  },
  {
   "cell_type": "markdown",
   "metadata": {},
   "source": [
    "### Flash para Equilibrio Líquido Vapor\n",
    "\n",
    "Este cálculo se ejemplificará para la mezcla de agua y butanol."
   ]
  },
  {
   "cell_type": "code",
   "execution_count": 3,
   "metadata": {},
   "outputs": [
    {
     "data": {
      "text/plain": [
       "      T: 320.0\n",
       "      P: 1.01\n",
       "   beta: 0.4699108915135797\n",
       "  error: 2.908288133638802e-09\n",
       "   iter: 7\n",
       "      X: array([0.05876434, 0.94123566])\n",
       "     v1: 112.09263402948574\n",
       " state1: 'L'\n",
       "      Y: array([0.99774164, 0.00225836])\n",
       "     v2: 21.75681728795378\n",
       " state2: 'L'"
      ]
     },
     "execution_count": 3,
     "metadata": {},
     "output_type": "execute_result"
    }
   ],
   "source": [
    "# Inicializando la ecuación de estado y UNIFAC. \n",
    "water = component(name='water', Tc=647.13, Pc=220.55, Zc=0.229, Vc=55.948, w=0.344861,\n",
    "                  Ant=[11.64785144, 3797.41566067, -46.77830444],\n",
    "                  GC={'H2O':1})\n",
    "\n",
    "mtbe = component(name='mtbe', Tc=497.1, Pc=34.3, Zc=0.273, Vc=329.0, w=0.266059,\n",
    "                 Ant=[9.16238246, 2541.97883529, -50.40534341],\n",
    "                 GC={'CH3':3, 'CH3O':1, 'C':1})\n",
    "mix = water + mtbe\n",
    "mix.unifac()\n",
    "eos = preos(mix, 'mhv_unifac')\n",
    "\n",
    "# Condiciones de operación y concentración de entrada  \n",
    "T = 320.0\n",
    "P = 1.01\n",
    "Z = np.array([0.5, 0.5])\n",
    "\n",
    "# Valores iniciales para ambas fases \n",
    "x0 = np.array([0.01, 0.99])\n",
    "w0 = np.array([0.99, 0.01])\n",
    "\n",
    "# Rutina de calculo\n",
    "flash(x0, w0, 'LL', Z, T, P, eos, full_output=True)"
   ]
  },
  {
   "cell_type": "markdown",
   "metadata": {},
   "source": [
    "# Punto de burbuja (VLE)\n",
    "\n",
    "El balance de masa de Rachford-Rice se reduce a las siguientes ecuaciones:\n",
    "\n",
    "$$ FO = \\sum_{i=1}^c x_i (K_i-1) = \\sum_{i=1}^c y_i -1 = 0 $$\n",
    "\n",
    "La solución de estos cálculos incluye el uso de sustitución sucesiva acelerada (ASS) para actualizar las composiciones de fases en un circuito interno y el método cuasi-Newton se usa para actualizar la presión o temperatura en un circuito externo. Si se detecta una convergencia lenta, el algoritmo intenta resolver el siguiente sistema de ecuaciones utilizando constantes de equilibrio, $K$, como variables de iteración. Esto se hace utilizando las rutinas de optimización de SciPy.\n",
    "\n",
    "$$ f_i = \\ln K_i + \\ln \\hat{\\phi}_i^v(\\underline{y}, T, P) -\\ln \\hat{\\phi}_i^l(\\underline{x}, T , P) \\quad i = 1,...,c $$\n",
    "$$ f_{c+1} = \\sum_{i=1}^c (y_i-x_i) $$\n",
    "\n",
    "**Nota:** estos cálculos no verifican la estabilidad de las fases.\n",
    "\n",
    "\n",
    "En este tutorial se muestran ejemplos de cálculo de las propiedades del punto de burbuja utilizando la ecuación de estado de Peng-Robinson. La regla de mezcla aplicada es Hurón Vidal Modificado combinado con UNIFAC Modificado."
   ]
  },
  {
   "cell_type": "code",
   "execution_count": 4,
   "metadata": {},
   "outputs": [],
   "source": [
    "from phasepy.equilibrium import bubblePy, bubbleTy\n",
    "\n",
    "water = component(name='water', Tc=647.13, Pc=220.55, \n",
    "                  w=0.344861, GC={'H2O':1})\n",
    "ethanol = component(name='ethanol', Tc=514.0, Pc=61.37,\n",
    "                    w=0.643558, GC={'CH3':1, 'CH2':1, 'OH(P)':1})\n",
    "mix = mixture(ethanol, water)\n",
    "\n",
    "mix.unifac() \n",
    "eos = preos(mix, 'mhv_unifac')"
   ]
  },
  {
   "cell_type": "code",
   "execution_count": 5,
   "metadata": {},
   "outputs": [
    {
     "data": {
      "text/plain": [
       "      T: 350.0\n",
       "      P: 0.8969829229313713\n",
       "  error: 1.1355361095866101e-12\n",
       "   iter: 5\n",
       "      X: array([0.5, 0.5])\n",
       "     v1: 44.140674802039406\n",
       " state1: 'Liquid'\n",
       "      Y: array([0.68233401, 0.31766599])\n",
       "     v2: 31901.55013661451\n",
       " state2: 'Vapor'"
      ]
     },
     "execution_count": 5,
     "metadata": {},
     "output_type": "execute_result"
    }
   ],
   "source": [
    "### Algoritmo de punto de burbuja x, T -> y, P\n",
    "\n",
    "# Condiciones de operación\n",
    "x = np.array([0.5, 0.5])\n",
    "T = 350.0\n",
    "\n",
    "# Valores iniciales\n",
    "y0 = np.array([0.5, 0.5])\n",
    "P0 = 1.0\n",
    "\n",
    "# Rutina de calculo\n",
    "bubblePy(y0, P0, x, T, eos, full_output=True)"
   ]
  },
  {
   "cell_type": "code",
   "execution_count": 6,
   "metadata": {},
   "outputs": [
    {
     "data": {
      "text/plain": [
       "      T: 382.84576305426117\n",
       "      P: 3.0\n",
       "  error: 2.3349588931748517e-10\n",
       "   iter: 5\n",
       "      X: array([0.6, 0.4])\n",
       "     v1: 51.11127949434468\n",
       " state1: 'Liquid'\n",
       "      Y: array([0.7027532, 0.2972468])\n",
       "     v2: 10143.393200684526\n",
       " state2: 'Vapor'"
      ]
     },
     "execution_count": 6,
     "metadata": {},
     "output_type": "execute_result"
    }
   ],
   "source": [
    "### Algoritmo de punto de burbuja x, P -> y, T\n",
    "\n",
    "# Condiciones de operación\n",
    "x = np.array([0.6, 0.4])\n",
    "P = 3.0\n",
    "\n",
    "# Valores iniciales\n",
    "y0 = np.array([0.5, 0.5])\n",
    "T0 = 320.0\n",
    "\n",
    "# Rutina de calculo\n",
    "bubbleTy(y0, T0, x, P, eos, full_output=True)"
   ]
  },
  {
   "cell_type": "markdown",
   "metadata": {},
   "source": [
    "#  Punto de Rocío (VLE)\n",
    "\n",
    "El balance de masa de Rachford-Rice se reduce a las siguientes ecuaciones:\n",
    "\n",
    "$$ FO = 1 - \\sum_{i=1}^c \\frac{y_i}{K_i} = 1 - \\sum_{i=1}^c x_i = 0 $$\n",
    "\n",
    "La solución de estos cálculos incluye el uso de sustitución sucesiva acelerada (ASS) para actualizar las composiciones de fases en un circuito interno y el método cuasi-Newton se usa para actualizar la presión o temperatura en un circuito externo. Si se detecta una convergencia lenta, el algoritmo intenta resolver el siguiente sistema de ecuaciones utilizando constantes de equilibrio, $K$, como variables de iteración. Esto se hace utilizando las rutinas de optimización de SciPy.\n",
    "\n",
    "$$ f_i = \\ln K_i + \\ln \\hat{\\phi}_i^v(\\underline{y}, T, P) -\\ln \\hat{\\phi}_i^l(\\underline{x}, T , P) \\quad i = 1,...,c $$\n",
    "$$ f_{c+1} = \\sum_{i=1}^c (y_i-x_i) $$\n",
    "\n",
    "**Nota:** estos cálculos no verifican la estabilidad de las fases.\n",
    "\n",
    "\n",
    "En este tutorial se muestran ejemplos de cálculo de las propiedades del punto de rocío utilizando ecuación de estado de Peng-Robinson-Stryjek-Vera. La regla de mezcla aplicada es Huron Vidal modificado combinado con Redlich-Kister."
   ]
  },
  {
   "cell_type": "code",
   "execution_count": 7,
   "metadata": {},
   "outputs": [],
   "source": [
    "from phasepy import mixture, component, prsveos, rkeos\n",
    "from phasepy.equilibrium import dewPx, dewTx\n",
    "\n",
    "ethanol = component(name='ethanol', Tc=514.0, Pc=61.37, Zc=0.241, Vc=168.0, w=0.643558,\n",
    "                    ksv=[1.27092923, 0.0440421])\n",
    "\n",
    "mtbe = component(name='mtbe', Tc=497.1, Pc=34.3, Zc=0.273, Vc=329.0, w=0.266059,\n",
    "                 ksv=[0.76429651, 0.04242646])\n",
    "\n",
    "mix = mtbe + ethanol\n",
    "C0 = np.array([0.02635196, -0.02855964, 0.01592515])\n",
    "C1 = np.array([312.575789, 50.1476555, 5.13981131])\n",
    "mix.rk(C0, C1)\n",
    "eos = prsveos(mix, mixrule='mhv_rk')\n",
    "\n",
    "\n"
   ]
  },
  {
   "cell_type": "code",
   "execution_count": 8,
   "metadata": {},
   "outputs": [
    {
     "data": {
      "text/plain": [
       "      T: 350.0\n",
       "      P: 1.5445973713541\n",
       "  error: 2.96076496653086e-11\n",
       "   iter: 4\n",
       "      X: array([0.23512692, 0.76487308])\n",
       "     v1: 79.8592556832308\n",
       " state1: 'Liquid'\n",
       "      Y: array([0.5, 0.5])\n",
       "     v2: 18058.942069436394\n",
       " state2: 'Vapor'"
      ]
     },
     "execution_count": 8,
     "metadata": {},
     "output_type": "execute_result"
    }
   ],
   "source": [
    "### Algoritmo de punto de burbuja y, T -> x, P\n",
    "\n",
    "# Condiciones de operación\n",
    "y = np.array([0.5, 0.5])\n",
    "T = 350.0\n",
    "\n",
    "# Valores iniciales\n",
    "x0 = np.array([0.5, 0.5])\n",
    "P0 = 1.0\n",
    "\n",
    "\n",
    "# Rutina de calculo\n",
    "dewPx(x0, P0, y, T, eos, full_output=True)"
   ]
  },
  {
   "cell_type": "code",
   "execution_count": 9,
   "metadata": {},
   "outputs": [
    {
     "data": {
      "text/plain": [
       "      T: 341.7556832715947\n",
       "      P: 1.0\n",
       "  error: 3.1086244689504336e-15\n",
       "   iter: 5\n",
       "      X: array([0.1357666, 0.8642334])\n",
       "     v1: 73.24673375253408\n",
       " state1: 'Liquid'\n",
       "      Y: array([0.4, 0.6])\n",
       "     v2: 27627.20399825711\n",
       " state2: 'Vapor'"
      ]
     },
     "execution_count": 9,
     "metadata": {},
     "output_type": "execute_result"
    }
   ],
   "source": [
    "### Algoritmo de punto de burbuja y, P -> x, T\n",
    "\n",
    "# Condiciones de operación\n",
    "y = np.array([0.4, 0.6])\n",
    "P = 1.0\n",
    "\n",
    "# Valores iniciales\n",
    "x0 = np.array([0.1, 0.9])\n",
    "T0 = 360.0\n",
    "\n",
    "\n",
    "# Rutina de calculo\n",
    "dewTx(x0, T0, y, P, eos, full_output=True)"
   ]
  },
  {
   "cell_type": "markdown",
   "metadata": {},
   "source": [
    "# Equilibrio Líquido Líquido (LLE)\n",
    "\n",
    "La estabilidad de fase juega un papel clave durante el cálculo del equilibrio cuando se trata de más de dos fases líquidas. Para este propósito, [Gupta et al.] (https://www.sciencedirect.com/science/article/pii/037838129180021M) propusieron el siguiente balance de masas de Rachford-Rice multifásico modificado:\n",
    "\n",
    "\n",
    "$$ \\sum_{i=1}^c \\frac{z_i (K_{ik} \\exp{\\theta_k}-1)}{1+ \\sum\\limits^{\\pi}_{\\substack{j=1 \\\\ j \\neq r}}{\\psi_j (K_{ij}} \\exp{\\theta_j} -1)} = 0 \\qquad k = 1,..., \\pi, k \\neq r $$\n",
    "\n",
    "Sujeto a:\n",
    "\n",
    "$$ \\psi_k \\theta_k = 0 $$\n",
    "\n",
    "En este sistema de ecuaciones, $z_i$ representa la composición global del componente $i$, $ K_{ij} = x_{ij}/x_{ir} = \\hat{\\phi}_{ir}/\\hat{ \\phi}_{ij} $ es el equilibrio constante del componente $i$ en la fase $j$ respecto a la fase de referencia $r$, y $\\psi_j$ y $\\theta_j$ son la fracción de fase y la variable de estabilidad de la fase $j$.\n",
    "\n",
    "La estrategia de solución es similar al clásico flash isobárico isotérmico de dos fases. En primer lugar se debe seleccionar una fase de referencia, esta fase se considera estable durante el procedimiento. En un bucle interno, el sistema de ecuaciones se resuelve usando el método multidimensional de Newton para fracciones de fase y variables de estabilidad y luego las composiciones se actualizan en un bucle externo usando sustitución sucesiva acelerada (ASS). Una vez que el algoritmo ha convergido, la variable de estabilidad proporciona información sobre la fase. Si toma un valor de cero la fase es estable y si es positiva la fase no lo es. El método de sustitución sucesiva propuesto puede ser lento, si ese es el caso el algoritmo intenta minimizar la energía libre de Gibbs del sistema. Este procedimiento también garantiza soluciones estables y se resuelve utilizando las funciones de SciPy.\n",
    "\n",
    "$$ min \\, {G} = \\sum_{k=1}^\\pi \\sum_{i=1}^c F_{ik} \\ln \\hat{f}_{ik} $$\n",
    "\n",
    "Este ejemplo muestra la solución del equilibrio líquido-líquido usando la función ``lle``. Esta función incorpora el algoritmo descrito anteriormente. Para empezar, se importan las funciones necesarias."
   ]
  },
  {
   "cell_type": "markdown",
   "metadata": {},
   "source": [
    "Se ejemplificará el cálculo del LLE para la mezcla de agua y mtbe. Primero se configura la mezcla y sus parámetros de interacción."
   ]
  },
  {
   "cell_type": "code",
   "execution_count": 28,
   "metadata": {},
   "outputs": [
    {
     "data": {
      "text/plain": [
       "           T: 320.0\n",
       "           P: 1.01\n",
       " error_outer: 2.9035040568651286e-09\n",
       " error_inner: 1.0073726451407202e-10\n",
       "        iter: 7\n",
       "        beta: array([0.53009228, 0.46990772])\n",
       "       tetha: array([0.])\n",
       "           X: array([[0.05876935, 0.94123065],\n",
       "       [0.99774233, 0.00225767]])\n",
       "           v: [None, None]\n",
       "      states: ['L', 'L']"
      ]
     },
     "execution_count": 28,
     "metadata": {},
     "output_type": "execute_result"
    }
   ],
   "source": [
    "from phasepy import component, mixture, virialgamma, unifac\n",
    "from phasepy.equilibrium import lle\n",
    "\n",
    "water = component(name='water', Tc=647.13, Pc=220.55, Zc=0.229, Vc=55.948, w=0.344861,\n",
    "                  Ant=[11.64785144, 3797.41566067, -46.77830444],\n",
    "                  GC={'H2O':1})\n",
    "\n",
    "mtbe = component(name='mtbe', Tc=497.1, Pc=34.3, Zc=0.273, Vc=329.0, w=0.266059,\n",
    "                 Ant=[9.16238246, 2541.97883529, -50.40534341],\n",
    "                 GC={'CH3':3, 'CH3O':1, 'C':1})\n",
    "\n",
    "mix = water + mtbe\n",
    "mix.unifac()\n",
    "eos = virialgamma(mix, actmodel='unifac')\n",
    "\n",
    "# Condiciones de operación\n",
    "T = 320.0\n",
    "P = 1.01\n",
    "Z = np.array([0.5, 0.5])\n",
    "\n",
    "# Valores iniciales\n",
    "x0 = np.array([0.01, 0.99])\n",
    "w0 = np.array([0.99, 0.01])\n",
    "\n",
    "# Rutina de calculo\n",
    "lle(x0, w0, Z, T, P, eos, full_output=True)"
   ]
  },
  {
   "cell_type": "markdown",
   "metadata": {},
   "source": [
    "Adicionalmente, phasepy posee una routina para ayudar al cálculo de condiciciones iniciales, estas se pueden obtener usando la función ``lle_init``. Esto se muestra a continuación."
   ]
  },
  {
   "cell_type": "code",
   "execution_count": 23,
   "metadata": {},
   "outputs": [
    {
     "data": {
      "text/plain": [
       "(array([9.99053445e-01, 9.46554585e-04]), array([0.25532584, 0.74467416]))"
      ]
     },
     "execution_count": 23,
     "metadata": {},
     "output_type": "execute_result"
    }
   ],
   "source": [
    "from phasepy.equilibrium import lle_init\n",
    "from phasepy import preos \n",
    "\n",
    "eos = preos(mix, 'mhv_unifac')\n",
    "\n",
    "# Condiciones de operación\n",
    "T = 320.0\n",
    "P = 1.01\n",
    "z = np.array([0.5, 0.5])\n",
    "\n",
    "# Rutina de calculo\n",
    "lle_init(z, T, P, eos)"
   ]
  },
  {
   "cell_type": "markdown",
   "metadata": {},
   "source": [
    "# Equilibrios sólido-líquido\n",
    "\n",
    "En esta sección se ejemplifica los cálculos de equilibrios sólido-líquido. Para ello existen dos funciones implementadas:\n",
    "\n",
    "- `sle`: Calcula los equilibrios Sólido-Líquido de una mezcla dada de composición global (Z) a temperatura (T) y presión (P).\n",
    "\n",
    "- `slle`: Calcula los equilibrios Sólido-Líquido-Líquido de una mezcla dada de composición global (Z) a temperatura (T) y presión (P).\n",
    "\n",
    "**Notas**\n",
    "1. Ambas funciones utilizan un flash multifásico modificado que calcula el equilibrio y la estabilidad simultáneamente. Sin embargo, tenga en cuenta que \"sle\" no comprueba si la fase líquida es miscible.\n",
    "\n",
    "2. Ambas funciones consideran las fases sólidas como fases puras.\n",
    "\n",
    "3. La función requiere que usted configure la entalpía de fusión de los componentes y la temperatura a la que se permite solidificar.\n",
    "\n",
    "4. Esta función ha establecido de forma predeterminada el número de fases líquidas; sin embargo, se pueden calcular múltiples fases sólidas. Asegúrese de que el número máximo de fases sea menor o igual al número de componentes de la mezcla (regla de las fases de Gibbs)"
   ]
  },
  {
   "cell_type": "markdown",
   "metadata": {},
   "source": [
    "### Definición de mezcla\n",
    "\n",
    "En este ejemplo se considerará una mezcla ternaria de ibuprofeno (1) + etanol (2) + agua (3).\n",
    "\n",
    "Se permitirá que el ibuprofeno se solidifique. Por lo tanto, se suministran su entalpía de fusión `[J/mol]` y temperatura `[K]`.\n",
    "\n",
    "La mezcla se modelará utilizando el modelo de coeficiente de actividad original de UNIFAC."
   ]
  },
  {
   "cell_type": "code",
   "execution_count": 34,
   "metadata": {},
   "outputs": [],
   "source": [
    "from phasepy import component, mixture, virialgamma\n",
    "from phasepy.equilibrium import sle, slle\n",
    "\n",
    "# Propiedades de cambio de fase del soluto\n",
    "hf_ibuprofen = 25500 # J/mol\n",
    "tf_ibuprofen = 347.15 # K\n",
    "\n",
    "ibuprofen = component(name='ibuprofen', Tc=765., Pc=29.8, Zc=0.313, Vc=668.,\n",
    "                      GC={'CH3':3, 'CH':1, 'ACH':4, 'ACCH2':1, 'ACCH':1, 'COOH':1},\n",
    "                      dHf=hf_ibuprofen, Tf=tf_ibuprofen)\n",
    "\n",
    "water = component(name='water', Tc=647.096, Pc=220.64, Zc=0.229,\n",
    "                  Vc=55.9472,GC={'H2O':1})\n",
    "\n",
    "ethanol = component(name='ethanol', Tc=514, Pc=61.37, Zc=0.241, Vc=168.,\n",
    "                    GC={'CH3':1, 'CH2':1, 'OH':1})\n",
    "\n",
    "mix = ibuprofen + ethanol + water\n",
    "eos = virialgamma(mix, virialmodel='ideal_gas', actmodel='original_unifac')"
   ]
  },
  {
   "cell_type": "markdown",
   "metadata": {},
   "source": [
    "### Equilibrios sólido-líquido\n",
    "\n",
    "Este equilibrio de fases se calcula utilizando la función ``sle``. El coeficiente de fugacidad del líquido se obtiene como es habitual a partir del modelo del coeficiente de actividad o de una ecuación de estado cúbica. La fase sólida se considera pura y su coeficiente de fugacidad se calcula de la siguiente manera:\n",
    "\n",
    "$$ \\ln \\phi^s = \\ln \\phi^l - \\frac{\\Delta H_f}{R} \\left(\\frac{1}{T} - \\frac{1}{T_f}\\right)$$ \n",
    "\n",
    "El equilibrio de fases se calcula con un flash que verifica el equilibrio y la estabilidad entre las fases líquida y sólida. **Nota:** No se verifica la estabilidad de la fase líquida en sí. La fase líquida aún puede ser inestable. En ese caso, se recomienda utilizar la función `slle`.\n",
    "\n",
    "El SLE se calcula de la siguiente manera:\n",
    "- `beta`: [fase líquida, fases sólidas] -> fracciones de fase.\n",
    "- `tetha`: [fases sólidas] -> se supone que la fase líquida es estable. Si tetha > 0, significa que la fase es inestable."
   ]
  },
  {
   "cell_type": "code",
   "execution_count": 36,
   "metadata": {},
   "outputs": [
    {
     "data": {
      "text/plain": [
       "            T: 318.15\n",
       "            P: 1.01325\n",
       "  error_outer: 4.984158382631239e-11\n",
       "  error_inner: 1.0168103661922023e-10\n",
       "         iter: 11\n",
       "         beta: array([0.64400275, 0.35599725])\n",
       "        tetha: array([0.])\n",
       "      X_fluid: array([[0.37888464, 0.46583652, 0.15527884]])\n",
       "      v_fluid: [None]\n",
       " states_fluid: ['L']\n",
       "      X_solid: array([[1., 0., 0.]])"
      ]
     },
     "execution_count": 36,
     "metadata": {},
     "output_type": "execute_result"
    }
   ],
   "source": [
    "#Condiciones de operación\n",
    "P = 1.01325 # bar\n",
    "T = 318.15 # K\n",
    "Z = np.array([0.6, 0.3, 0.1])\n",
    "\n",
    "#Rutina de calculo\n",
    "sle(Z, T, P, eos, solid_phases_index=[0], full_output=True)"
   ]
  }
 ],
 "metadata": {
  "kernelspec": {
   "display_name": "base",
   "language": "python",
   "name": "python3"
  },
  "language_info": {
   "codemirror_mode": {
    "name": "ipython",
    "version": 3
   },
   "file_extension": ".py",
   "mimetype": "text/x-python",
   "name": "python",
   "nbconvert_exporter": "python",
   "pygments_lexer": "ipython3",
   "version": "3.12.3"
  }
 },
 "nbformat": 4,
 "nbformat_minor": 4
}
