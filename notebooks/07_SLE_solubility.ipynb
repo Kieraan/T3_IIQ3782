{
 "cells": [
  {
   "cell_type": "code",
   "execution_count": 2,
   "metadata": {},
   "outputs": [],
   "source": [
    "import numpy as np\n",
    "from epcsaftpy import component, pcsaft\n",
    "import matplotlib.pyplot as plt\n",
    "from scipy import optimize"
   ]
  },
  {
   "cell_type": "code",
   "execution_count": 3,
   "metadata": {},
   "outputs": [],
   "source": [
    "def eos(SOLVENT, SOLUTE):\n",
    "    mix = SOLVENT + SOLUTE\n",
    "    saft = pcsaft(mix)\n",
    "    return saft\n",
    "\n",
    "R = 8.31446312572960                                      # [J mol-1 K-1] Ideal gas constant\n",
    "def fobj_sle(inc, T, P, dHm, Tm, saft):                   # Solving the SLE\n",
    "    xs = inc[0]**2\n",
    "    xsolv = 1 - xs\n",
    "\n",
    "    x = np.array([xsolv, xs])\n",
    "    lngamma = saft.get_lngamma(x, T, P)\n",
    "\n",
    "    fo = dHm/R\n",
    "    fo *= 1/Tm - 1./T\n",
    "    fo -= lngamma[-1]\n",
    "    fo -= np.log(xs)\n",
    "    return fo"
   ]
  },
  {
   "cell_type": "code",
   "execution_count": 4,
   "metadata": {},
   "outputs": [],
   "source": [
    "acetonitrile  = component('acetonitrile   ', ms = 3.7034, sigma = 2.5587, eps =  150.76,\n",
    "                 kappaAB = 3.8618, eAB = 1468.37, sites = [0, 1, 1], Mw = 41.05)\n",
    "\n",
    "butanol       = component('1-butanol      ', ms = 2.7515, sigma = 3.6139, eps = 259.59,\n",
    "                    kappaAB = 0.006692, eAB = 2544.6 , sites = [0, 1, 1], Mw =  74.12)\n",
    "\n",
    "ethanol       = component('ethanol        ', ms = 2.3827, sigma = 3.1771, eps = 198.24,\n",
    "                    kappaAB = 0.032384, eAB = 2653.4, sites = [0, 1, 1], Mw =  46.069)\n",
    "\n",
    "ethylacetate  = component('ethyl acetate  ', ms = 3.5375, sigma = 3.3079, eps =  230.8, Mw = 88.11)\n",
    "\n",
    "hexane        = component('hexane         ', ms = 3.0576, sigma = 3.7983, eps = 236.77, Mw =  86.177)\n",
    "\n",
    "limonene      = component('limonene       ', ms = 3.704, sigma = 3.8988, eps =  281.49, Mw = 136.23)\n",
    "\n",
    "propanediol12 = component('1,2-propanediol', ms = 4.2084, sigma = 2.9015, eps =  247.46,\n",
    "                 kappaAB = 0.11991, eAB = 2174.39, sites = [0, 1, 1], Mw = 76.094)\n",
    "\n",
    "solvents = [acetonitrile, butanol, ethanol, ethylacetate, hexane, limonene, propanediol12]\n",
    "\n",
    "borneol = component('Borneol  ', ms = 4.4798, sigma = 3.4851, eps = 158.5,\n",
    "                    kappaAB = 0.01, eAB = 1251.45 , sites = [0, 1, 1], Mw =  154.25)\n",
    "\n",
    "camphor = component('d-Camphor', ms = 3.5803, sigma = 1.7007, eps = 156.29,\n",
    "                    kappaAB = 0.01, eAB = 2662.34 , sites = [0, 1, 1], Mw =  152.23)\n",
    "\n",
    "menthol = component('Menthol  ', ms = 4.152, sigma = 3.903, eps = 262.40,\n",
    "                    kappaAB = 0.0996, eAB = 1785.6 , sites = [0, 1, 1], Mw =  156.27 )\n",
    "\n",
    "thymol = component('Thymol   ', ms = 4.012, sigma = 3.816, eps = 290.22,\n",
    "                    kappaAB = 0.0616, eAB = 1660.0 , sites = [0, 1, 1], Mw =  150.22 )\n",
    "\n",
    "solutes = [borneol, camphor, menthol, thymol]\n",
    "\n",
    "Tm = [480.3, 451., 315.68, 323.5]                                      # [K] Melting temperature\n",
    "dHm = [7300., 6200., 12.89e3, 19.65e3]                                  # [J mol-1] Enthalpy of fusion"
   ]
  },
  {
   "cell_type": "code",
   "execution_count": 5,
   "metadata": {},
   "outputs": [
    {
     "name": "stdout",
     "output_type": "stream",
     "text": [
      "| Borneol   | acetonitrile    | 0.17922825789771746| True\n",
      "| Borneol   | 1-butanol       | 0.09112087474767255| True\n",
      "| Borneol   | ethanol         | 0.09527512045115628| True\n",
      "| Borneol   | ethyl acetate   | 0.14005599877138017| True\n",
      "| Borneol   | hexane          | 0.27092373275856185| True\n",
      "| Borneol   | limonene        | 0.18166536160113375| True\n",
      "| Borneol   | 1,2-propanediol | 0.002859959392773133| True\n",
      "| d-Camphor | acetonitrile    | 0.4091958056311296| True\n",
      "| d-Camphor | 1-butanol       | 0.7734988816448969| True\n",
      "| d-Camphor | ethanol         | 0.5837594217458273| True\n",
      "| d-Camphor | ethyl acetate   | 0.5572401727760317| True\n",
      "| d-Camphor | hexane          | 0.6356622947113645| True\n",
      "| d-Camphor | limonene        | 0.8311803671647864| True\n",
      "| d-Camphor | 1,2-propanediol | 0.7164681632642524| True\n",
      "| Menthol   | acetonitrile    | 0.7654619892675089| True\n",
      "| Menthol   | 1-butanol       | 0.7484118727585504| True\n",
      "| Menthol   | ethanol         | 0.7495951016879506| True\n",
      "| Menthol   | ethyl acetate   | 0.7490286149565359| True\n",
      "| Menthol   | hexane          | 0.7259599772180673| True\n",
      "| Menthol   | limonene        | 0.7201139045891759| True\n",
      "| Menthol   | 1,2-propanediol | 0.7415449058720763| True\n",
      "| Thymol    | acetonitrile    | 0.5956655586361114| True\n",
      "| Thymol    | 1-butanol       | 0.5330349580708436| True\n",
      "| Thymol    | ethanol         | 0.5355640831995131| True\n",
      "| Thymol    | ethyl acetate   | 0.526278059189823| True\n",
      "| Thymol    | hexane          | 0.3172979921634208| True\n",
      "| Thymol    | limonene        | 0.3917553733798682| True\n",
      "| Thymol    | 1,2-propanediol | 0.555480878059264| True\n"
     ]
    }
   ],
   "source": [
    "nSOLV = len(solvents)\n",
    "nSOLU = len(solutes)\n",
    "T = 298.15                                                # [K] Temperature\n",
    "P = 1.01325e5                                             # [Pa] Pressure\n",
    "xs0 = 0.1\n",
    "for i in range(nSOLU):\n",
    "    for j in range(nSOLV):\n",
    "        out = optimize.root(fobj_sle, xs0, args = (T, P, dHm[i], Tm[i], eos(solvents[j], solutes[i])))\n",
    "        print(f\"| {solutes[i].name} | {solvents[j].name} | {out.x[0]**2}| {out.success}\")"
   ]
  },
  {
   "cell_type": "code",
   "execution_count": null,
   "metadata": {},
   "outputs": [],
   "source": []
  }
 ],
 "metadata": {
  "kernelspec": {
   "display_name": "base",
   "language": "python",
   "name": "python3"
  },
  "language_info": {
   "codemirror_mode": {
    "name": "ipython",
    "version": 3
   },
   "file_extension": ".py",
   "mimetype": "text/x-python",
   "name": "python",
   "nbconvert_exporter": "python",
   "pygments_lexer": "ipython3",
   "version": "3.9.13"
  },
  "orig_nbformat": 4
 },
 "nbformat": 4,
 "nbformat_minor": 2
}
